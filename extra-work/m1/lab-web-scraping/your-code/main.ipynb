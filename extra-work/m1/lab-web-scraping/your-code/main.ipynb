{
 "cells": [
  {
   "cell_type": "markdown",
   "metadata": {},
   "source": [
    "# Web Scraping Lab\n",
    "\n",
    "You will find in this notebook some scrapy exercises to practise your scraping skills.\n",
    "\n",
    "**Tips:**\n",
    "\n",
    "- Check the response status code for each request to ensure you have obtained the intended content.\n",
    "- Print the response text in each request to understand the kind of info you are getting and its format.\n",
    "- Check for patterns in the response text to extract the data/info requested in each question.\n",
    "- Visit the urls below and take a look at their source code through Chrome DevTools. You'll need to identify the html tags, special class names, etc used in the html content you are expected to extract.\n",
    "\n",
    "**Resources**:\n",
    "- [Requests library](http://docs.python-requests.org/en/master/#the-user-guide)\n",
    "- [Beautiful Soup Doc](https://www.crummy.com/software/BeautifulSoup/bs4/doc/)\n",
    "- [Urllib](https://docs.python.org/3/library/urllib.html#module-urllib)\n",
    "- [re lib](https://docs.python.org/3/library/re.html)\n",
    "- [lxml lib](https://lxml.de/)\n",
    "- [Scrapy](https://scrapy.org/)\n",
    "- [List of HTTP status codes](https://en.wikipedia.org/wiki/List_of_HTTP_status_codes)\n",
    "- [HTML basics](http://www.simplehtmlguide.com/cheatsheet.php)\n",
    "- [CSS basics](https://www.cssbasics.com/#page_start)"
   ]
  },
  {
   "cell_type": "markdown",
   "metadata": {},
   "source": [
    "#### Below are the libraries and modules you may need. `requests`,  `BeautifulSoup` and `pandas` are already imported for you. If you prefer to use additional libraries feel free to do it."
   ]
  },
  {
   "cell_type": "code",
   "execution_count": 1,
   "metadata": {},
   "outputs": [],
   "source": [
    "import requests\n",
    "from bs4 import BeautifulSoup\n",
    "import pandas as pd"
   ]
  },
  {
   "cell_type": "markdown",
   "metadata": {},
   "source": [
    "#### Download, parse (using BeautifulSoup), and print the content from the Trending Developers page from GitHub:"
   ]
  },
  {
   "cell_type": "code",
   "execution_count": 2,
   "metadata": {},
   "outputs": [],
   "source": [
    "# This is the url you will scrape in this exercise\n",
    "url = 'https://github.com/trending/developers'"
   ]
  },
  {
   "cell_type": "code",
   "execution_count": 3,
   "metadata": {},
   "outputs": [],
   "source": [
    "# your code here\n",
    "html = requests.get(url).content\n",
    "soup = BeautifulSoup(html, 'html.parser')"
   ]
  },
  {
   "cell_type": "markdown",
   "metadata": {},
   "source": [
    "#### Display the names of the trending developers retrieved in the previous step.\n",
    "\n",
    "Your output should be a Python list of developer names. Each name should not contain any html tag.\n",
    "\n",
    "**Instructions:**\n",
    "\n",
    "1. Find out the html tag and class names used for the developer names. You can achieve this using Chrome DevTools.\n",
    "\n",
    "1. Use BeautifulSoup to extract all the html elements that contain the developer names.\n",
    "\n",
    "1. Use string manipulation techniques to replace whitespaces and linebreaks (i.e. `\\n`) in the *text* of each html element. Use a list to store the clean names.\n",
    "\n",
    "1. Print the list of names.\n",
    "\n",
    "Your output should look like below:\n",
    "\n",
    "```\n",
    "['trimstray (@trimstray)',\n",
    " 'joewalnes (JoeWalnes)',\n",
    " 'charlax (Charles-AxelDein)',\n",
    " 'ForrestKnight (ForrestKnight)',\n",
    " 'revery-ui (revery-ui)',\n",
    " 'alibaba (Alibaba)',\n",
    " 'Microsoft (Microsoft)',\n",
    " 'github (GitHub)',\n",
    " 'facebook (Facebook)',\n",
    " 'boazsegev (Bo)',\n",
    " 'google (Google)',\n",
    " 'cloudfetch',\n",
    " 'sindresorhus (SindreSorhus)',\n",
    " 'tensorflow',\n",
    " 'apache (TheApacheSoftwareFoundation)',\n",
    " 'DevonCrawford (DevonCrawford)',\n",
    " 'ARMmbed (ArmMbed)',\n",
    " 'vuejs (vuejs)',\n",
    " 'fastai (fast.ai)',\n",
    " 'QiShaoXuan (Qi)',\n",
    " 'joelparkerhenderson (JoelParkerHenderson)',\n",
    " 'torvalds (LinusTorvalds)',\n",
    " 'CyC2018',\n",
    " 'komeiji-satori (神楽坂覚々)',\n",
    " 'script-8']\n",
    " ```"
   ]
  },
  {
   "cell_type": "code",
   "execution_count": 4,
   "metadata": {},
   "outputs": [],
   "source": [
    "t_devs = soup.find_all('h1', {'class': 'h3 lh-condensed'})"
   ]
  },
  {
   "cell_type": "code",
   "execution_count": 5,
   "metadata": {},
   "outputs": [],
   "source": [
    "t_devs_list = []\n",
    "for i in range(len(t_devs)):\n",
    "    developer = t_devs[i].a.text + t_devs[i].a.attrs['href'] + \")\"\n",
    "    developer = developer.replace(\" \", \"\").replace(\"\\n\",\"\").replace(\"/\",\" (\")\n",
    "    \n",
    "    t_devs_list.append(developer)\n",
    "    "
   ]
  },
  {
   "cell_type": "code",
   "execution_count": 6,
   "metadata": {},
   "outputs": [
    {
     "data": {
      "text/plain": [
       "['MikePenz (mikepenz)',\n",
       " 'FabianAffolter (fabaff)',\n",
       " 'LuísCobucci (lcobucci)',\n",
       " 'AleksandrStatciuk (freearhey)',\n",
       " 'ArtemZakharchenko (kettanaito)',\n",
       " 'Andrei (AndreiMisiukevich)',\n",
       " 'AlexGaynor (alex)',\n",
       " 'JoakimSørensen (ludeeus)',\n",
       " 'Mr.doob (mrdoob)',\n",
       " 'RyanLopopolo (lopopolo)',\n",
       " 'MichaIng (MichaIng)',\n",
       " 'MatthewLittle (zone117x)',\n",
       " 'Ayke (aykevl)',\n",
       " 'StevenFackler (sfackler)',\n",
       " 'PepeIborra (pepeiborra)',\n",
       " 'HaThach (hathach)',\n",
       " 'KevinPapst (kevinpapst)',\n",
       " 'DanielGerlag (danielgerlag)',\n",
       " 'NiklasFiekas (niklasf)',\n",
       " 'johnthagen (johnthagen)',\n",
       " 'FrançoisChollet (fchollet)',\n",
       " 'isaacs (isaacs)',\n",
       " 'Lipis (lipis)',\n",
       " 'KentC.Dodds (kentcdodds)',\n",
       " 'SeanTAllen (SeanTAllen)']"
      ]
     },
     "execution_count": 6,
     "metadata": {},
     "output_type": "execute_result"
    }
   ],
   "source": [
    "t_devs_list"
   ]
  },
  {
   "cell_type": "markdown",
   "metadata": {},
   "source": [
    "#### Display the trending Python repositories in GitHub.\n",
    "\n",
    "The steps to solve this problem is similar to the previous one except that you need to find out the repository names instead of developer names."
   ]
  },
  {
   "cell_type": "code",
   "execution_count": 7,
   "metadata": {},
   "outputs": [],
   "source": [
    "# This is the url you will scrape in this exercise\n",
    "url = 'https://github.com/trending/python?since=daily'"
   ]
  },
  {
   "cell_type": "code",
   "execution_count": 8,
   "metadata": {},
   "outputs": [],
   "source": [
    "# your code here\n",
    "html = requests.get(url).content\n",
    "soup = BeautifulSoup(html, 'html.parser')"
   ]
  },
  {
   "cell_type": "code",
   "execution_count": 9,
   "metadata": {},
   "outputs": [],
   "source": [
    "t_reps = soup.find_all('h1', {'class': 'h3 lh-condensed'})"
   ]
  },
  {
   "cell_type": "code",
   "execution_count": 10,
   "metadata": {},
   "outputs": [],
   "source": [
    "t_reps_list = []\n",
    "for i in range(len(t_reps)):\n",
    "    repo = t_reps[i].a.text\n",
    "    repo = repo.replace(\" \", \"\").replace(\"\\n\",\"\")\n",
    "    t_reps_list.append(repo)"
   ]
  },
  {
   "cell_type": "code",
   "execution_count": 11,
   "metadata": {},
   "outputs": [
    {
     "data": {
      "text/plain": [
       "['tgbot-collection/YYeTsBot',\n",
       " 'freqtrade/freqtrade',\n",
       " 'archivy/archivy',\n",
       " 'deeppomf/DeepCreamPy',\n",
       " 'owid/covid-19-data',\n",
       " 'kangvcar/InfoSpider',\n",
       " 'zhouhaoyi/Informer2020',\n",
       " 'lazyprogrammer/machine_learning_examples',\n",
       " 'DarkSecDevelopers/HiddenEye-Legacy',\n",
       " 'python-telegram-bot/python-telegram-bot',\n",
       " 'carlospolop/hacktricks',\n",
       " 'hackingthemarkets/binance-tutorials',\n",
       " 'ytdl-org/youtube-dl',\n",
       " 'edeng23/binance-trade-bot',\n",
       " 'pittcsc/Summer2021-Internships',\n",
       " 'deximy/FxxkSsxx',\n",
       " 'ranaroussi/yfinance',\n",
       " 'iperov/DeepFaceLab',\n",
       " 'Vonng/ddia',\n",
       " 'Rapptz/discord.py',\n",
       " 'RyanElliott10/wsbtickerbot',\n",
       " 'yunjey/pytorch-tutorial',\n",
       " 'aapatre/Automatic-Udemy-Course-Enroller-GET-PAID-UDEMY-COURSES-for-FREE',\n",
       " 'liquidctl/liquidctl',\n",
       " 'emscripten-core/emsdk']"
      ]
     },
     "execution_count": 11,
     "metadata": {},
     "output_type": "execute_result"
    }
   ],
   "source": [
    "t_reps_list"
   ]
  },
  {
   "cell_type": "markdown",
   "metadata": {},
   "source": [
    "#### Display all the image links from Walt Disney wikipedia page."
   ]
  },
  {
   "cell_type": "code",
   "execution_count": 12,
   "metadata": {},
   "outputs": [],
   "source": [
    "# This is the url you will scrape in this exercise\n",
    "url = 'https://en.wikipedia.org/wiki/Walt_Disney'"
   ]
  },
  {
   "cell_type": "code",
   "execution_count": 13,
   "metadata": {},
   "outputs": [],
   "source": [
    "# your code here\n",
    "html = requests.get(url).content\n",
    "soup = BeautifulSoup(html, 'html.parser')"
   ]
  },
  {
   "cell_type": "code",
   "execution_count": 14,
   "metadata": {},
   "outputs": [],
   "source": [
    "images = soup.find_all('a', {'class': 'image'})"
   ]
  },
  {
   "cell_type": "code",
   "execution_count": 15,
   "metadata": {},
   "outputs": [],
   "source": [
    "wd_images_list = []\n",
    "for i in range(len(images)):\n",
    "    link = images[i].img[\"src\"]\n",
    "    wd_images_list.append(link)"
   ]
  },
  {
   "cell_type": "code",
   "execution_count": 16,
   "metadata": {},
   "outputs": [
    {
     "data": {
      "text/plain": [
       "['//upload.wikimedia.org/wikipedia/commons/thumb/d/df/Walt_Disney_1946.JPG/220px-Walt_Disney_1946.JPG',\n",
       " '//upload.wikimedia.org/wikipedia/commons/thumb/8/87/Walt_Disney_1942_signature.svg/150px-Walt_Disney_1942_signature.svg.png',\n",
       " '//upload.wikimedia.org/wikipedia/commons/thumb/c/c4/Walt_Disney_envelope_ca._1921.jpg/220px-Walt_Disney_envelope_ca._1921.jpg',\n",
       " '//upload.wikimedia.org/wikipedia/commons/thumb/0/0d/Trolley_Troubles_poster.jpg/170px-Trolley_Troubles_poster.jpg',\n",
       " '//upload.wikimedia.org/wikipedia/commons/thumb/7/71/Walt_Disney_and_his_cartoon_creation_%22Mickey_Mouse%22_-_National_Board_of_Review_Magazine.jpg/170px-Walt_Disney_and_his_cartoon_creation_%22Mickey_Mouse%22_-_National_Board_of_Review_Magazine.jpg']"
      ]
     },
     "execution_count": 16,
     "metadata": {},
     "output_type": "execute_result"
    }
   ],
   "source": [
    "wd_images_list[:5]"
   ]
  },
  {
   "cell_type": "markdown",
   "metadata": {},
   "source": [
    "#### Retrieve an arbitary Wikipedia page of \"Python\" and create a list of links on that page."
   ]
  },
  {
   "cell_type": "code",
   "execution_count": 17,
   "metadata": {},
   "outputs": [],
   "source": [
    "# This is the url you will scrape in this exercise\n",
    "url ='https://en.wikipedia.org/wiki/Python' "
   ]
  },
  {
   "cell_type": "code",
   "execution_count": 18,
   "metadata": {},
   "outputs": [],
   "source": [
    "# your code here\n",
    "html = requests.get(url).content\n",
    "soup = BeautifulSoup(html, 'html.parser')"
   ]
  },
  {
   "cell_type": "code",
   "execution_count": 19,
   "metadata": {},
   "outputs": [],
   "source": [
    "links = soup.find_all('a',{'class': 'interlanguage-link-target'})"
   ]
  },
  {
   "cell_type": "code",
   "execution_count": 20,
   "metadata": {},
   "outputs": [],
   "source": [
    "py_links_list = []\n",
    "for i in range(len(links)):\n",
    "    link_py = links[i]['href']\n",
    "    py_links_list.append(link_py)"
   ]
  },
  {
   "cell_type": "code",
   "execution_count": 21,
   "metadata": {},
   "outputs": [
    {
     "data": {
      "text/plain": [
       "['https://af.wikipedia.org/wiki/Python',\n",
       " 'https://als.wikipedia.org/wiki/Python',\n",
       " 'https://ar.wikipedia.org/wiki/%D8%A8%D8%A7%D9%8A%D8%AB%D9%88%D9%86_(%D8%AA%D9%88%D8%B6%D9%8A%D8%AD)',\n",
       " 'https://az.wikipedia.org/wiki/Python',\n",
       " 'https://bn.wikipedia.org/wiki/%E0%A6%AA%E0%A6%BE%E0%A6%87%E0%A6%A5%E0%A6%A8_(%E0%A6%A6%E0%A7%8D%E0%A6%AC%E0%A7%8D%E0%A6%AF%E0%A6%B0%E0%A7%8D%E0%A6%A5%E0%A6%A4%E0%A6%BE_%E0%A6%A8%E0%A6%BF%E0%A6%B0%E0%A6%B8%E0%A6%A8)']"
      ]
     },
     "execution_count": 21,
     "metadata": {},
     "output_type": "execute_result"
    }
   ],
   "source": [
    "py_links_list[:5]"
   ]
  },
  {
   "cell_type": "markdown",
   "metadata": {},
   "source": [
    "#### Find the number of titles that have changed in the United States Code since its last release point."
   ]
  },
  {
   "cell_type": "code",
   "execution_count": 22,
   "metadata": {},
   "outputs": [],
   "source": [
    "# This is the url you will scrape in this exercise\n",
    "url = 'http://uscode.house.gov/download/download.shtml'"
   ]
  },
  {
   "cell_type": "code",
   "execution_count": 23,
   "metadata": {},
   "outputs": [],
   "source": [
    "# your code here\n",
    "html = requests.get(url).content\n",
    "soup = BeautifulSoup(html, 'html.parser')"
   ]
  },
  {
   "cell_type": "code",
   "execution_count": 24,
   "metadata": {},
   "outputs": [],
   "source": [
    "usa_titles = soup.find_all('div',{'class': 'uscitem'})"
   ]
  },
  {
   "cell_type": "code",
   "execution_count": 25,
   "metadata": {},
   "outputs": [],
   "source": [
    "usa_tit_w_app = []\n",
    "for i in range(len(usa_titles)):\n",
    "    if 'Appendix' in usa_titles[i].text:\n",
    "        append_tit = usa_titles[i-1].text\n",
    "        append_tit = append_tit.replace(\"\\n\",\"\").replace(\"  \",\"\")\n",
    "        usa_tit_w_app.append(append_tit)\n",
    "    else:\n",
    "        pass"
   ]
  },
  {
   "cell_type": "code",
   "execution_count": 26,
   "metadata": {},
   "outputs": [
    {
     "data": {
      "text/plain": [
       "['Title 5 - Government Organization and Employees ٭116-259[XML]\\xa0[XHTML]\\xa0[PCC]\\xa0[PDF]',\n",
       " 'Title 11 - Bankruptcy ٭116-259[XML]\\xa0[XHTML]\\xa0[PCC]\\xa0[PDF]',\n",
       " 'Title 18 - Crimes and Criminal Procedure ٭116-259[XML]\\xa0[XHTML]\\xa0[PCC]\\xa0[PDF]',\n",
       " 'Title 28 - Judiciary and Judicial Procedure ٭116-259[XML]\\xa0[XHTML]\\xa0[PCC]\\xa0[PDF]',\n",
       " 'Title 50 - War and National Defense116-259[XML]\\xa0[XHTML]\\xa0[PCC]\\xa0[PDF]']"
      ]
     },
     "execution_count": 26,
     "metadata": {},
     "output_type": "execute_result"
    }
   ],
   "source": [
    "usa_tit_w_app[0:5]"
   ]
  },
  {
   "cell_type": "markdown",
   "metadata": {},
   "source": [
    "#### Find a Python list with the top ten FBI's Most Wanted names."
   ]
  },
  {
   "cell_type": "code",
   "execution_count": 27,
   "metadata": {},
   "outputs": [],
   "source": [
    "# This is the url you will scrape in this exercise\n",
    "url = 'https://www.fbi.gov/wanted/topten'"
   ]
  },
  {
   "cell_type": "code",
   "execution_count": 28,
   "metadata": {},
   "outputs": [],
   "source": [
    "# your code here\n",
    "html = requests.get(url).content\n",
    "soup = BeautifulSoup(html, 'html.parser')"
   ]
  },
  {
   "cell_type": "code",
   "execution_count": 29,
   "metadata": {},
   "outputs": [],
   "source": [
    "most_wanted = soup.find_all('li',{'class': 'portal-type-person castle-grid-block-item'})"
   ]
  },
  {
   "cell_type": "code",
   "execution_count": 30,
   "metadata": {},
   "outputs": [],
   "source": [
    "mwanted_list = []\n",
    "for i in range(len(most_wanted)):\n",
    "    name = most_wanted[i].h3.text\n",
    "    name = name.replace(\"\\n\",\"\")\n",
    "    mwanted_list.append(name)"
   ]
  },
  {
   "cell_type": "code",
   "execution_count": 31,
   "metadata": {},
   "outputs": [
    {
     "data": {
      "text/plain": [
       "['BHADRESHKUMAR CHETANBHAI PATEL',\n",
       " 'ALEJANDRO ROSALES CASTILLO',\n",
       " 'ARNOLDO JIMENEZ',\n",
       " 'JASON DEREK BROWN',\n",
       " 'ALEXIS FLORES',\n",
       " 'JOSE RODOLFO VILLARREAL-HERNANDEZ',\n",
       " 'EUGENE PALMER',\n",
       " 'RAFAEL CARO-QUINTERO',\n",
       " 'ROBERT WILLIAM FISHER',\n",
       " 'YASER ABDEL SAID']"
      ]
     },
     "execution_count": 31,
     "metadata": {},
     "output_type": "execute_result"
    }
   ],
   "source": [
    "mwanted_list"
   ]
  },
  {
   "cell_type": "markdown",
   "metadata": {},
   "source": [
    "####  Display the 20 latest earthquakes info (date, time, latitude, longitude and region name) by the EMSC as a pandas dataframe."
   ]
  },
  {
   "cell_type": "code",
   "execution_count": 32,
   "metadata": {},
   "outputs": [],
   "source": [
    "# This is the url you will scrape in this exercise\n",
    "url = 'https://www.emsc-csem.org/Earthquake/'"
   ]
  },
  {
   "cell_type": "code",
   "execution_count": 33,
   "metadata": {},
   "outputs": [],
   "source": [
    "# your code here\n",
    "html = requests.get(url).content\n",
    "soup = BeautifulSoup(html, 'html.parser')"
   ]
  },
  {
   "cell_type": "code",
   "execution_count": 34,
   "metadata": {},
   "outputs": [],
   "source": [
    "earthquakes = soup.find('tbody')"
   ]
  },
  {
   "cell_type": "code",
   "execution_count": 35,
   "metadata": {},
   "outputs": [],
   "source": [
    "earthquakes= earthquakes.find_all(\"tr\")"
   ]
  },
  {
   "cell_type": "code",
   "execution_count": 47,
   "metadata": {},
   "outputs": [
    {
     "data": {
      "text/plain": [
       "'earthquake2021-02-08\\xa0\\xa0\\xa018:43:27.331min ago37.23\\xa0N\\xa0\\xa015.55\\xa0E\\xa0\\xa027ML2.6\\xa0SICILY, ITALY2021-02-08 19:03'"
      ]
     },
     "execution_count": 47,
     "metadata": {},
     "output_type": "execute_result"
    }
   ],
   "source": [
    "earthquakes[2].text"
   ]
  },
  {
   "cell_type": "code",
   "execution_count": 44,
   "metadata": {},
   "outputs": [
    {
     "data": {
      "text/plain": [
       "['earthquake2021-02-08',\n",
       " '',\n",
       " '',\n",
       " '18:43:27.331min ago37.23',\n",
       " 'N',\n",
       " '',\n",
       " '15.55',\n",
       " 'E',\n",
       " '',\n",
       " '27ML2.6',\n",
       " 'SICILY, ITALY2021-02-08 19:03']"
      ]
     },
     "execution_count": 44,
     "metadata": {},
     "output_type": "execute_result"
    }
   ],
   "source": [
    ".split(\"\\xa0\")"
   ]
  },
  {
   "cell_type": "code",
   "execution_count": 37,
   "metadata": {},
   "outputs": [],
   "source": [
    "eq_list = []\n",
    "for i in range(len(earthquakes)):\n",
    "    eq = earthquakes[i].text\n",
    "    eq = eq.split(\"\\xa0\")\n",
    "    eq_list.append(eq)"
   ]
  },
  {
   "cell_type": "code",
   "execution_count": 38,
   "metadata": {},
   "outputs": [],
   "source": [
    "eq_list"
   ]
  },
  {
   "cell_type": "code",
   "execution_count": 49,
   "metadata": {},
   "outputs": [
    {
     "data": {
      "text/html": [
       "<div>\n",
       "<style scoped>\n",
       "    .dataframe tbody tr th:only-of-type {\n",
       "        vertical-align: middle;\n",
       "    }\n",
       "\n",
       "    .dataframe tbody tr th {\n",
       "        vertical-align: top;\n",
       "    }\n",
       "\n",
       "    .dataframe thead th {\n",
       "        text-align: right;\n",
       "    }\n",
       "</style>\n",
       "<table border=\"1\" class=\"dataframe\">\n",
       "  <thead>\n",
       "    <tr style=\"text-align: right;\">\n",
       "      <th></th>\n",
       "      <th>0</th>\n",
       "      <th>1</th>\n",
       "      <th>2</th>\n",
       "      <th>3</th>\n",
       "      <th>4</th>\n",
       "      <th>5</th>\n",
       "      <th>6</th>\n",
       "      <th>7</th>\n",
       "      <th>8</th>\n",
       "      <th>9</th>\n",
       "      <th>10</th>\n",
       "    </tr>\n",
       "  </thead>\n",
       "  <tbody>\n",
       "    <tr>\n",
       "      <th>0</th>\n",
       "      <td>earthquake2021-02-08</td>\n",
       "      <td></td>\n",
       "      <td></td>\n",
       "      <td>19:00:20.014min ago8.09</td>\n",
       "      <td>N</td>\n",
       "      <td></td>\n",
       "      <td>123.09</td>\n",
       "      <td>E</td>\n",
       "      <td></td>\n",
       "      <td>33 M3.1</td>\n",
       "      <td>MINDANAO, PHILIPPINES2021-02-08 19:10</td>\n",
       "    </tr>\n",
       "    <tr>\n",
       "      <th>1</th>\n",
       "      <td>earthquake2021-02-08</td>\n",
       "      <td></td>\n",
       "      <td></td>\n",
       "      <td>18:44:37.830min ago37.43</td>\n",
       "      <td>N</td>\n",
       "      <td></td>\n",
       "      <td>119.02</td>\n",
       "      <td>W</td>\n",
       "      <td></td>\n",
       "      <td>4Md2.2</td>\n",
       "      <td>CENTRAL CALIFORNIA2021-02-08 18:46</td>\n",
       "    </tr>\n",
       "    <tr>\n",
       "      <th>2</th>\n",
       "      <td>earthquake2021-02-08</td>\n",
       "      <td></td>\n",
       "      <td></td>\n",
       "      <td>18:43:27.331min ago37.23</td>\n",
       "      <td>N</td>\n",
       "      <td></td>\n",
       "      <td>15.55</td>\n",
       "      <td>E</td>\n",
       "      <td></td>\n",
       "      <td>27ML2.6</td>\n",
       "      <td>SICILY, ITALY2021-02-08 19:03</td>\n",
       "    </tr>\n",
       "    <tr>\n",
       "      <th>3</th>\n",
       "      <td>earthquake2021-02-08</td>\n",
       "      <td></td>\n",
       "      <td></td>\n",
       "      <td>18:30:33.844min ago36.39</td>\n",
       "      <td>N</td>\n",
       "      <td></td>\n",
       "      <td>28.69</td>\n",
       "      <td>E</td>\n",
       "      <td></td>\n",
       "      <td>7ML2.1</td>\n",
       "      <td>DODECANESE IS.-TURKEY BORDER REG2021-02-08 19:07</td>\n",
       "    </tr>\n",
       "    <tr>\n",
       "      <th>4</th>\n",
       "      <td>earthquake2021-02-08</td>\n",
       "      <td></td>\n",
       "      <td></td>\n",
       "      <td>18:30:01.544min ago19.04</td>\n",
       "      <td>N</td>\n",
       "      <td></td>\n",
       "      <td>64.70</td>\n",
       "      <td>W</td>\n",
       "      <td></td>\n",
       "      <td>48Md3.4</td>\n",
       "      <td>VIRGIN ISLANDS REGION2021-02-08 19:06</td>\n",
       "    </tr>\n",
       "  </tbody>\n",
       "</table>\n",
       "</div>"
      ],
      "text/plain": [
       "                     0  1  2                         3  4  5       6  7  8   \\\n",
       "0  earthquake2021-02-08         19:00:20.014min ago8.09  N     123.09  E      \n",
       "1  earthquake2021-02-08        18:44:37.830min ago37.43  N     119.02  W      \n",
       "2  earthquake2021-02-08        18:43:27.331min ago37.23  N      15.55  E      \n",
       "3  earthquake2021-02-08        18:30:33.844min ago36.39  N      28.69  E      \n",
       "4  earthquake2021-02-08        18:30:01.544min ago19.04  N      64.70  W      \n",
       "\n",
       "        9                                                 10  \n",
       "0  33 M3.1             MINDANAO, PHILIPPINES2021-02-08 19:10  \n",
       "1   4Md2.2                CENTRAL CALIFORNIA2021-02-08 18:46  \n",
       "2  27ML2.6                     SICILY, ITALY2021-02-08 19:03  \n",
       "3   7ML2.1  DODECANESE IS.-TURKEY BORDER REG2021-02-08 19:07  \n",
       "4  48Md3.4             VIRGIN ISLANDS REGION2021-02-08 19:06  "
      ]
     },
     "execution_count": 49,
     "metadata": {},
     "output_type": "execute_result"
    }
   ],
   "source": [
    "df = pd.DataFrame.from_records(eq_list)\n",
    "df.head()"
   ]
  },
  {
   "cell_type": "code",
   "execution_count": 60,
   "metadata": {},
   "outputs": [],
   "source": [
    "df = df.drop([1,2,5,8],axis=1)"
   ]
  },
  {
   "cell_type": "code",
   "execution_count": 65,
   "metadata": {},
   "outputs": [
    {
     "data": {
      "text/html": [
       "<div>\n",
       "<style scoped>\n",
       "    .dataframe tbody tr th:only-of-type {\n",
       "        vertical-align: middle;\n",
       "    }\n",
       "\n",
       "    .dataframe tbody tr th {\n",
       "        vertical-align: top;\n",
       "    }\n",
       "\n",
       "    .dataframe thead th {\n",
       "        text-align: right;\n",
       "    }\n",
       "</style>\n",
       "<table border=\"1\" class=\"dataframe\">\n",
       "  <thead>\n",
       "    <tr style=\"text-align: right;\">\n",
       "      <th></th>\n",
       "      <th>0</th>\n",
       "      <th>3</th>\n",
       "      <th>4</th>\n",
       "      <th>6</th>\n",
       "      <th>7</th>\n",
       "      <th>9</th>\n",
       "      <th>10</th>\n",
       "    </tr>\n",
       "  </thead>\n",
       "  <tbody>\n",
       "    <tr>\n",
       "      <th>0</th>\n",
       "      <td>earthquake2021-02-08</td>\n",
       "      <td>19:00:20.014min ago8.09</td>\n",
       "      <td>N</td>\n",
       "      <td>123.09</td>\n",
       "      <td>E</td>\n",
       "      <td>33 M3.1</td>\n",
       "      <td>MINDANAO, PHILIPPINES2021-02-08 19:10</td>\n",
       "    </tr>\n",
       "    <tr>\n",
       "      <th>1</th>\n",
       "      <td>earthquake2021-02-08</td>\n",
       "      <td>18:44:37.830min ago37.43</td>\n",
       "      <td>N</td>\n",
       "      <td>119.02</td>\n",
       "      <td>W</td>\n",
       "      <td>4Md2.2</td>\n",
       "      <td>CENTRAL CALIFORNIA2021-02-08 18:46</td>\n",
       "    </tr>\n",
       "    <tr>\n",
       "      <th>2</th>\n",
       "      <td>earthquake2021-02-08</td>\n",
       "      <td>18:43:27.331min ago37.23</td>\n",
       "      <td>N</td>\n",
       "      <td>15.55</td>\n",
       "      <td>E</td>\n",
       "      <td>27ML2.6</td>\n",
       "      <td>SICILY, ITALY2021-02-08 19:03</td>\n",
       "    </tr>\n",
       "    <tr>\n",
       "      <th>3</th>\n",
       "      <td>earthquake2021-02-08</td>\n",
       "      <td>18:30:33.844min ago36.39</td>\n",
       "      <td>N</td>\n",
       "      <td>28.69</td>\n",
       "      <td>E</td>\n",
       "      <td>7ML2.1</td>\n",
       "      <td>DODECANESE IS.-TURKEY BORDER REG2021-02-08 19:07</td>\n",
       "    </tr>\n",
       "    <tr>\n",
       "      <th>4</th>\n",
       "      <td>earthquake2021-02-08</td>\n",
       "      <td>18:30:01.544min ago19.04</td>\n",
       "      <td>N</td>\n",
       "      <td>64.70</td>\n",
       "      <td>W</td>\n",
       "      <td>48Md3.4</td>\n",
       "      <td>VIRGIN ISLANDS REGION2021-02-08 19:06</td>\n",
       "    </tr>\n",
       "  </tbody>\n",
       "</table>\n",
       "</div>"
      ],
      "text/plain": [
       "                     0                         3  4       6  7        9   \\\n",
       "0  earthquake2021-02-08   19:00:20.014min ago8.09  N  123.09  E  33 M3.1   \n",
       "1  earthquake2021-02-08  18:44:37.830min ago37.43  N  119.02  W   4Md2.2   \n",
       "2  earthquake2021-02-08  18:43:27.331min ago37.23  N   15.55  E  27ML2.6   \n",
       "3  earthquake2021-02-08  18:30:33.844min ago36.39  N   28.69  E   7ML2.1   \n",
       "4  earthquake2021-02-08  18:30:01.544min ago19.04  N   64.70  W  48Md3.4   \n",
       "\n",
       "                                                 10  \n",
       "0             MINDANAO, PHILIPPINES2021-02-08 19:10  \n",
       "1                CENTRAL CALIFORNIA2021-02-08 18:46  \n",
       "2                     SICILY, ITALY2021-02-08 19:03  \n",
       "3  DODECANESE IS.-TURKEY BORDER REG2021-02-08 19:07  \n",
       "4             VIRGIN ISLANDS REGION2021-02-08 19:06  "
      ]
     },
     "execution_count": 65,
     "metadata": {},
     "output_type": "execute_result"
    }
   ],
   "source": [
    "df.head()"
   ]
  },
  {
   "cell_type": "code",
   "execution_count": 71,
   "metadata": {},
   "outputs": [],
   "source": [
    "df.columns=[\"Date\",\"Time\",\"Latitude\" , \"Longitude\", \"Depth\", \"Mag\", \"Region Name\"]"
   ]
  },
  {
   "cell_type": "code",
   "execution_count": 73,
   "metadata": {},
   "outputs": [
    {
     "data": {
      "text/html": [
       "<div>\n",
       "<style scoped>\n",
       "    .dataframe tbody tr th:only-of-type {\n",
       "        vertical-align: middle;\n",
       "    }\n",
       "\n",
       "    .dataframe tbody tr th {\n",
       "        vertical-align: top;\n",
       "    }\n",
       "\n",
       "    .dataframe thead th {\n",
       "        text-align: right;\n",
       "    }\n",
       "</style>\n",
       "<table border=\"1\" class=\"dataframe\">\n",
       "  <thead>\n",
       "    <tr style=\"text-align: right;\">\n",
       "      <th></th>\n",
       "      <th>Date</th>\n",
       "      <th>Time</th>\n",
       "      <th>Latitude</th>\n",
       "      <th>Longitude</th>\n",
       "      <th>Depth</th>\n",
       "      <th>Mag</th>\n",
       "      <th>Region Name</th>\n",
       "    </tr>\n",
       "  </thead>\n",
       "  <tbody>\n",
       "    <tr>\n",
       "      <th>0</th>\n",
       "      <td>earthquake2021-02-08</td>\n",
       "      <td>19:00:20.014min ago8.09</td>\n",
       "      <td>N</td>\n",
       "      <td>123.09</td>\n",
       "      <td>E</td>\n",
       "      <td>33 M3.1</td>\n",
       "      <td>MINDANAO, PHILIPPINES2021-02-08 19:10</td>\n",
       "    </tr>\n",
       "    <tr>\n",
       "      <th>1</th>\n",
       "      <td>earthquake2021-02-08</td>\n",
       "      <td>18:44:37.830min ago37.43</td>\n",
       "      <td>N</td>\n",
       "      <td>119.02</td>\n",
       "      <td>W</td>\n",
       "      <td>4Md2.2</td>\n",
       "      <td>CENTRAL CALIFORNIA2021-02-08 18:46</td>\n",
       "    </tr>\n",
       "    <tr>\n",
       "      <th>2</th>\n",
       "      <td>earthquake2021-02-08</td>\n",
       "      <td>18:43:27.331min ago37.23</td>\n",
       "      <td>N</td>\n",
       "      <td>15.55</td>\n",
       "      <td>E</td>\n",
       "      <td>27ML2.6</td>\n",
       "      <td>SICILY, ITALY2021-02-08 19:03</td>\n",
       "    </tr>\n",
       "    <tr>\n",
       "      <th>3</th>\n",
       "      <td>earthquake2021-02-08</td>\n",
       "      <td>18:30:33.844min ago36.39</td>\n",
       "      <td>N</td>\n",
       "      <td>28.69</td>\n",
       "      <td>E</td>\n",
       "      <td>7ML2.1</td>\n",
       "      <td>DODECANESE IS.-TURKEY BORDER REG2021-02-08 19:07</td>\n",
       "    </tr>\n",
       "    <tr>\n",
       "      <th>4</th>\n",
       "      <td>earthquake2021-02-08</td>\n",
       "      <td>18:30:01.544min ago19.04</td>\n",
       "      <td>N</td>\n",
       "      <td>64.70</td>\n",
       "      <td>W</td>\n",
       "      <td>48Md3.4</td>\n",
       "      <td>VIRGIN ISLANDS REGION2021-02-08 19:06</td>\n",
       "    </tr>\n",
       "  </tbody>\n",
       "</table>\n",
       "</div>"
      ],
      "text/plain": [
       "                   Date                      Time Latitude Longitude Depth  \\\n",
       "0  earthquake2021-02-08   19:00:20.014min ago8.09        N    123.09     E   \n",
       "1  earthquake2021-02-08  18:44:37.830min ago37.43        N    119.02     W   \n",
       "2  earthquake2021-02-08  18:43:27.331min ago37.23        N     15.55     E   \n",
       "3  earthquake2021-02-08  18:30:33.844min ago36.39        N     28.69     E   \n",
       "4  earthquake2021-02-08  18:30:01.544min ago19.04        N     64.70     W   \n",
       "\n",
       "       Mag                                       Region Name  \n",
       "0  33 M3.1             MINDANAO, PHILIPPINES2021-02-08 19:10  \n",
       "1   4Md2.2                CENTRAL CALIFORNIA2021-02-08 18:46  \n",
       "2  27ML2.6                     SICILY, ITALY2021-02-08 19:03  \n",
       "3   7ML2.1  DODECANESE IS.-TURKEY BORDER REG2021-02-08 19:07  \n",
       "4  48Md3.4             VIRGIN ISLANDS REGION2021-02-08 19:06  "
      ]
     },
     "execution_count": 73,
     "metadata": {},
     "output_type": "execute_result"
    }
   ],
   "source": [
    "df.head()"
   ]
  },
  {
   "cell_type": "markdown",
   "metadata": {},
   "source": [
    "#### Count the number of tweets by a given Twitter account.\n",
    "Ask the user for the handle (@handle) of a twitter account. You will need to include a ***try/except block*** for account names not found. \n",
    "<br>***Hint:*** the program should count the number of tweets for any provided account."
   ]
  },
  {
   "cell_type": "code",
   "execution_count": 36,
   "metadata": {},
   "outputs": [],
   "source": [
    "# This is the url you will scrape in this exercise \n",
    "# You will need to add the account credentials to this url\n",
    "url = 'https://twitter.com/'"
   ]
  },
  {
   "cell_type": "code",
   "execution_count": 37,
   "metadata": {},
   "outputs": [],
   "source": [
    "# your code here"
   ]
  },
  {
   "cell_type": "markdown",
   "metadata": {},
   "source": [
    "#### Number of followers of a given twitter account\n",
    "Ask the user for the handle (@handle) of a twitter account. You will need to include a ***try/except block*** for account names not found. \n",
    "<br>***Hint:*** the program should count the followers for any provided account."
   ]
  },
  {
   "cell_type": "code",
   "execution_count": 38,
   "metadata": {},
   "outputs": [],
   "source": [
    "# This is the url you will scrape in this exercise \n",
    "# You will need to add the account credentials to this url\n",
    "url = 'https://twitter.com/'"
   ]
  },
  {
   "cell_type": "code",
   "execution_count": 39,
   "metadata": {},
   "outputs": [],
   "source": [
    "# your code here"
   ]
  },
  {
   "cell_type": "markdown",
   "metadata": {},
   "source": [
    "#### List all language names and number of related articles in the order they appear in wikipedia.org."
   ]
  },
  {
   "cell_type": "code",
   "execution_count": 40,
   "metadata": {},
   "outputs": [],
   "source": [
    "# This is the url you will scrape in this exercise\n",
    "url = 'https://www.wikipedia.org/'"
   ]
  },
  {
   "cell_type": "code",
   "execution_count": 41,
   "metadata": {},
   "outputs": [],
   "source": [
    "# your code here"
   ]
  },
  {
   "cell_type": "markdown",
   "metadata": {},
   "source": [
    "#### A list with the different kind of datasets available in data.gov.uk."
   ]
  },
  {
   "cell_type": "code",
   "execution_count": 42,
   "metadata": {},
   "outputs": [],
   "source": [
    "# This is the url you will scrape in this exercise\n",
    "url = 'https://data.gov.uk/'"
   ]
  },
  {
   "cell_type": "code",
   "execution_count": 43,
   "metadata": {},
   "outputs": [],
   "source": [
    "# your code here"
   ]
  },
  {
   "cell_type": "markdown",
   "metadata": {},
   "source": [
    "#### Display the top 10 languages by number of native speakers stored in a pandas dataframe."
   ]
  },
  {
   "cell_type": "code",
   "execution_count": 44,
   "metadata": {},
   "outputs": [],
   "source": [
    "# This is the url you will scrape in this exercise\n",
    "url = 'https://en.wikipedia.org/wiki/List_of_languages_by_number_of_native_speakers'"
   ]
  },
  {
   "cell_type": "code",
   "execution_count": 45,
   "metadata": {},
   "outputs": [],
   "source": [
    "# your code here"
   ]
  },
  {
   "cell_type": "markdown",
   "metadata": {},
   "source": [
    "## Bonus\n",
    "#### Scrape a certain number of tweets of a given Twitter account."
   ]
  },
  {
   "cell_type": "code",
   "execution_count": 46,
   "metadata": {},
   "outputs": [],
   "source": [
    "# This is the url you will scrape in this exercise \n",
    "# You will need to add the account credentials to this url\n",
    "url = 'https://twitter.com/'"
   ]
  },
  {
   "cell_type": "code",
   "execution_count": 47,
   "metadata": {},
   "outputs": [],
   "source": [
    "# your code here"
   ]
  },
  {
   "cell_type": "markdown",
   "metadata": {},
   "source": [
    "#### Display IMDB's top 250 data (movie name, initial release, director name and stars) as a pandas dataframe."
   ]
  },
  {
   "cell_type": "code",
   "execution_count": 48,
   "metadata": {},
   "outputs": [],
   "source": [
    "# This is the url you will scrape in this exercise \n",
    "url = 'https://www.imdb.com/chart/top'"
   ]
  },
  {
   "cell_type": "code",
   "execution_count": 49,
   "metadata": {},
   "outputs": [],
   "source": [
    "# your code here"
   ]
  },
  {
   "cell_type": "markdown",
   "metadata": {},
   "source": [
    "#### Display the movie name, year and a brief summary of the top 10 random movies (IMDB) as a pandas dataframe."
   ]
  },
  {
   "cell_type": "code",
   "execution_count": 50,
   "metadata": {},
   "outputs": [],
   "source": [
    "#This is the url you will scrape in this exercise\n",
    "url = 'http://www.imdb.com/chart/top'"
   ]
  },
  {
   "cell_type": "code",
   "execution_count": 51,
   "metadata": {},
   "outputs": [],
   "source": [
    "# your code here"
   ]
  },
  {
   "cell_type": "markdown",
   "metadata": {},
   "source": [
    "#### Find the live weather report (temperature, wind speed, description and weather) of a given city."
   ]
  },
  {
   "cell_type": "code",
   "execution_count": 52,
   "metadata": {},
   "outputs": [
    {
     "name": "stdin",
     "output_type": "stream",
     "text": [
      "Enter the city:  a\n"
     ]
    }
   ],
   "source": [
    "#https://openweathermap.org/current\n",
    "city = input('Enter the city: ')\n",
    "url = 'http://api.openweathermap.org/data/2.5/weather?'+'q='+city+'&APPID=b35975e18dc93725acb092f7272cc6b8&units=metric'"
   ]
  },
  {
   "cell_type": "code",
   "execution_count": 53,
   "metadata": {},
   "outputs": [],
   "source": [
    "# your code here"
   ]
  },
  {
   "cell_type": "markdown",
   "metadata": {},
   "source": [
    "#### Find the book name, price and stock availability as a pandas dataframe."
   ]
  },
  {
   "cell_type": "code",
   "execution_count": 54,
   "metadata": {},
   "outputs": [],
   "source": [
    "# This is the url you will scrape in this exercise. \n",
    "# It is a fictional bookstore created to be scraped. \n",
    "url = 'http://books.toscrape.com/'"
   ]
  },
  {
   "cell_type": "code",
   "execution_count": 55,
   "metadata": {},
   "outputs": [],
   "source": [
    "# your code here"
   ]
  }
 ],
 "metadata": {
  "kernelspec": {
   "display_name": "Python [conda env:ironhack_env]",
   "language": "python",
   "name": "conda-env-ironhack_env-py"
  },
  "language_info": {
   "codemirror_mode": {
    "name": "ipython",
    "version": 3
   },
   "file_extension": ".py",
   "mimetype": "text/x-python",
   "name": "python",
   "nbconvert_exporter": "python",
   "pygments_lexer": "ipython3",
   "version": "3.7.3"
  }
 },
 "nbformat": 4,
 "nbformat_minor": 4
}
